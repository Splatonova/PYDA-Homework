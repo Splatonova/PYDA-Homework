{
 "cells": [
  {
   "cell_type": "markdown",
   "metadata": {},
   "source": [
    "# Домашняя работа №2"
   ]
  },
  {
   "cell_type": "code",
   "execution_count": 2,
   "metadata": {},
   "outputs": [],
   "source": [
    "import numpy as np\n",
    "from scipy.optimize import approx_fprime"
   ]
  },
  {
   "cell_type": "markdown",
   "metadata": {},
   "source": [
    "### Задание 1"
   ]
  },
  {
   "cell_type": "markdown",
   "metadata": {},
   "source": [
    "Посчитайте 1-ую и 2-ую производные функции (на бумажке):\n",
    "\n",
    "𝑓(𝑥)=𝑠𝑖𝑛2(2𝑥+1)"
   ]
  },
  {
   "cell_type": "markdown",
   "metadata": {},
   "source": [
    "### Решение\n",
    "$f'(x) = 2*sin(2x+1) * (sin(2x + 1))' = 2*sin(2x+1) * cos(2x + 1) * (2x + 1)' = 4 * sin(2x+1)*cos(2x + 1) $\n",
    "$f''(x) = 4 * (sin(2x + 1)' * cos(2x + 1) + sin(2x + 1) * cos(2x +1)') $\n",
    "$f''(x) = 4 * (cos(2x + 1) * 2 * cos(2x + 1) + sin(2x + 1) * (-sin(2x + 1) * 2) $\n",
    "$f''(x) = 4 * (2 * cos^2(2x + 1) - 2 * sin^2(2x + 1)) $\n",
    "$f''(x) = 8 * cos^2(2x + 1) - 8 * sin^2(2x +1) $"
   ]
  },
  {
   "cell_type": "code",
   "execution_count": 3,
   "metadata": {},
   "outputs": [
    {
     "data": {
      "text/latex": [
       "$\\displaystyle 4 \\sin{\\left(2 x + 1 \\right)} \\cos{\\left(2 x + 1 \\right)}$"
      ],
      "text/plain": [
       "4*sin(2*x + 1)*cos(2*x + 1)"
      ]
     },
     "execution_count": 3,
     "metadata": {},
     "output_type": "execute_result"
    }
   ],
   "source": [
    "from sympy import *\n",
    "x = symbols('x')\n",
    "result = diff(pow(sin(2*x+1), 2), x)\n",
    "result"
   ]
  },
  {
   "cell_type": "code",
   "execution_count": 4,
   "metadata": {},
   "outputs": [
    {
     "data": {
      "text/latex": [
       "$\\displaystyle - 8 \\sin^{2}{\\left(2 x + 1 \\right)} + 8 \\cos^{2}{\\left(2 x + 1 \\right)}$"
      ],
      "text/plain": [
       "-8*sin(2*x + 1)**2 + 8*cos(2*x + 1)**2"
      ]
     },
     "execution_count": 4,
     "metadata": {},
     "output_type": "execute_result"
    }
   ],
   "source": [
    "x = symbols('x')\n",
    "result2 = diff(result, x)\n",
    "result2"
   ]
  },
  {
   "cell_type": "markdown",
   "metadata": {},
   "source": [
    "### Задание 2: \n",
    "Посчитайте частные производные функции в точкe\n",
    "(на бумажке или в LaTeX и на numpy):"
   ]
  },
  {
   "cell_type": "markdown",
   "metadata": {},
   "source": [
    "$f(x,y)=2x^2y^3 + 1/x + y^2x + 7$ в точке $(1,2)$"
   ]
  },
  {
   "cell_type": "markdown",
   "metadata": {},
   "source": [
    "### Решение\n",
    "$f'x(x,y)= 4xy^3 - 1/x^2 + y^2$;\n",
    "$f'y(x,y)= 6x^2y^2 + 2xy$;\n",
    "\n",
    "$f'x(1,2)= 4 * 1 * 8  - 1 + 4 = 35$; \n",
    "$f'y(1,2)= 6 * 1 * 4 + 1 + 2 * 1 * 2 = 28$"
   ]
  },
  {
   "cell_type": "code",
   "execution_count": 16,
   "metadata": {},
   "outputs": [
    {
     "name": "stdout",
     "output_type": "stream",
     "text": [
      "производная по x - 35.0 производная по y - 28.0\n"
     ]
    }
   ],
   "source": [
    "def func(x):\n",
    "    return 2 * x[0]**2 * x[1]**3 + 1/x[0] + x[0] * x[1]**2 + 7\n",
    "x = [1,2]\n",
    "eps = np.sqrt(np.finfo(float).eps)\n",
    "result = approx_fprime(x, func, [eps, eps])\n",
    "print('производная по x -', round(result[0],2), 'производная по y -', round(result[1],2))"
   ]
  },
  {
   "cell_type": "markdown",
   "metadata": {},
   "source": [
    "### Задание 3"
   ]
  },
  {
   "cell_type": "markdown",
   "metadata": {},
   "source": [
    "Найти точки минимума в следующих данных (колонка height):"
   ]
  },
  {
   "cell_type": "code",
   "execution_count": 5,
   "metadata": {},
   "outputs": [
    {
     "data": {
      "text/html": [
       "<div>\n",
       "<style scoped>\n",
       "    .dataframe tbody tr th:only-of-type {\n",
       "        vertical-align: middle;\n",
       "    }\n",
       "\n",
       "    .dataframe tbody tr th {\n",
       "        vertical-align: top;\n",
       "    }\n",
       "\n",
       "    .dataframe thead th {\n",
       "        text-align: right;\n",
       "    }\n",
       "</style>\n",
       "<table border=\"1\" class=\"dataframe\">\n",
       "  <thead>\n",
       "    <tr style=\"text-align: right;\">\n",
       "      <th></th>\n",
       "      <th>sec</th>\n",
       "      <th>x1</th>\n",
       "      <th>y1</th>\n",
       "      <th>x2</th>\n",
       "      <th>y2</th>\n",
       "      <th>height</th>\n",
       "    </tr>\n",
       "  </thead>\n",
       "  <tbody>\n",
       "    <tr>\n",
       "      <th>0</th>\n",
       "      <td>0</td>\n",
       "      <td>875</td>\n",
       "      <td>1411</td>\n",
       "      <td>1008</td>\n",
       "      <td>1835</td>\n",
       "      <td>414</td>\n",
       "    </tr>\n",
       "    <tr>\n",
       "      <th>1</th>\n",
       "      <td>1</td>\n",
       "      <td>883</td>\n",
       "      <td>1377</td>\n",
       "      <td>1057</td>\n",
       "      <td>1873</td>\n",
       "      <td>417</td>\n",
       "    </tr>\n",
       "    <tr>\n",
       "      <th>2</th>\n",
       "      <td>2</td>\n",
       "      <td>862</td>\n",
       "      <td>1397</td>\n",
       "      <td>1066</td>\n",
       "      <td>1872</td>\n",
       "      <td>417</td>\n",
       "    </tr>\n",
       "    <tr>\n",
       "      <th>3</th>\n",
       "      <td>3</td>\n",
       "      <td>878</td>\n",
       "      <td>1394</td>\n",
       "      <td>1046</td>\n",
       "      <td>1875</td>\n",
       "      <td>417</td>\n",
       "    </tr>\n",
       "    <tr>\n",
       "      <th>4</th>\n",
       "      <td>4</td>\n",
       "      <td>910</td>\n",
       "      <td>1378</td>\n",
       "      <td>1070</td>\n",
       "      <td>1866</td>\n",
       "      <td>417</td>\n",
       "    </tr>\n",
       "  </tbody>\n",
       "</table>\n",
       "</div>"
      ],
      "text/plain": [
       "   sec   x1    y1    x2    y2  height\n",
       "0    0  875  1411  1008  1835     414\n",
       "1    1  883  1377  1057  1873     417\n",
       "2    2  862  1397  1066  1872     417\n",
       "3    3  878  1394  1046  1875     417\n",
       "4    4  910  1378  1070  1866     417"
      ]
     },
     "execution_count": 5,
     "metadata": {},
     "output_type": "execute_result"
    }
   ],
   "source": [
    "import pandas as pd\n",
    "data = pd.read_csv('video.csv')\n",
    "data.head()"
   ]
  },
  {
   "cell_type": "code",
   "execution_count": 12,
   "metadata": {},
   "outputs": [
    {
     "data": {
      "text/plain": [
       "[<matplotlib.lines.Line2D at 0x2356ae751c8>]"
      ]
     },
     "execution_count": 12,
     "metadata": {},
     "output_type": "execute_result"
    },
    {
     "data": {
      "image/png": "[encoded data removed]",
      "text/plain": [
       "<Figure size 432x288 with 1 Axes>"
      ]
     },
     "metadata": {
      "needs_background": "light"
     },
     "output_type": "display_data"
    }
   ],
   "source": [
    "import matplotlib.pyplot as plt\n",
    "from scipy.signal import find_peaks\n",
    "peaks, _ = find_peaks(-data.height, prominence=1, width=20)\n",
    "plt.plot(data.height)\n",
    "plt.plot(peaks, data.height[peaks], \".\")"
   ]
  },
  {
   "cell_type": "code",
   "execution_count": 13,
   "metadata": {},
   "outputs": [
    {
     "data": {
      "text/plain": [
       "array([ 233,  244,  511,  750,  974, 1196], dtype=int64)"
      ]
     },
     "execution_count": 13,
     "metadata": {},
     "output_type": "execute_result"
    }
   ],
   "source": [
    "peaks"
   ]
  },
  {
   "cell_type": "code",
   "execution_count": null,
   "metadata": {},
   "outputs": [],
   "source": []
  },
  {
   "cell_type": "code",
   "execution_count": null,
   "metadata": {},
   "outputs": [],
   "source": []
  },
  {
   "cell_type": "code",
   "execution_count": null,
   "metadata": {},
   "outputs": [],
   "source": []
  }
 ],
 "metadata": {
  "kernelspec": {
   "display_name": "Python 3",
   "language": "python",
   "name": "python3"
  },
  "language_info": {
   "codemirror_mode": {
    "name": "ipython",
    "version": 3
   },
   "file_extension": ".py",
   "mimetype": "text/x-python",
   "name": "python",
   "nbconvert_exporter": "python",
   "pygments_lexer": "ipython3",
   "version": "3.7.6"
  }
 },
 "nbformat": 4,
 "nbformat_minor": 2
}

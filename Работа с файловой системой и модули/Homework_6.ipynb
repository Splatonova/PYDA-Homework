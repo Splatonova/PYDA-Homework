{
 "cells": [
  {
   "cell_type": "markdown",
   "metadata": {},
   "source": [
    "# Домашнее задание\n",
    "1. Переведите содержимое файла purchase_log.txt в словарь purchases вида:\n",
    "```python\n",
    "{'1840e0b9d4': 'Продукты', ...}\n",
    "```\n",
    "\n",
    "2. Для каждого user_id в файле visit_log.csv определите третий столбец с категорией покупки (если покупка была, сам файл visit_log.csv изменять не надо). Запишите в файл funnel.csv визиты из файла visit_log.csv, в которых были покупки с указанием категории.\n",
    "\n",
    "Учтите условия на данные:\n",
    "- содержимое purchase_log.txt помещается в оперативную память компьютера\n",
    "- содержимое visit_log.csv - нет; используйте только построчную обработку этого файла"
   ]
  },
  {
   "cell_type": "code",
   "execution_count": 1,
   "metadata": {},
   "outputs": [],
   "source": [
    "import json\n",
    "\n",
    "result = {}\n",
    "with open('purchase_log.txt', 'r', encoding = 'utf-8') as f:\n",
    "    for line in f:\n",
    "        #print(line)\n",
    "        line = line.strip()\n",
    "        dict_in_str = json.loads(line)\n",
    "        result[dict_in_str['user_id']] = dict_in_str['category']\n",
    "f.close()\n",
    "\n",
    "list_users = []\n",
    "with open ('visit_log.csv', 'r', encoding = 'utf-8') as visit:\n",
    "    with open ('funnel.csv', 'w', encoding = 'utf-8') as funnel:\n",
    "        for line in visit:\n",
    "            list_users = line.strip().split(',')\n",
    "            #print(list_users)\n",
    "            need = result.get(list_users[0])\n",
    "            if need != None:\n",
    "                list_users.append(need)\n",
    "                to_save = ','.join(list_users) + \"\\n\"\n",
    "                funnel.write(to_save)\n",
    "visit.close()\n",
    "funnel.close()"
   ]
  },
  {
   "cell_type": "code",
   "execution_count": null,
   "metadata": {},
   "outputs": [],
   "source": []
  }
 ],
 "metadata": {
  "kernelspec": {
   "display_name": "Python 3",
   "language": "python",
   "name": "python3"
  },
  "language_info": {
   "codemirror_mode": {
    "name": "ipython",
    "version": 3
   },
   "file_extension": ".py",
   "mimetype": "text/x-python",
   "name": "python",
   "nbconvert_exporter": "python",
   "pygments_lexer": "ipython3",
   "version": "3.7.6"
  }
 },
 "nbformat": 4,
 "nbformat_minor": 4
}

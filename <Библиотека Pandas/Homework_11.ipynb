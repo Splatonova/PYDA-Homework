{
 "cells": [
  {
   "cell_type": "markdown",
   "metadata": {},
   "source": [
    "## Задание 1\n",
    "Скачайте с сайта https://grouplens.org/datasets/movielens/ датасет любого размера. Определите какому фильму было выставлено больше всего оценок 5.0."
   ]
  },
  {
   "cell_type": "code",
   "execution_count": 1,
   "metadata": {},
   "outputs": [],
   "source": [
    "import pandas as pd"
   ]
  },
  {
   "cell_type": "code",
   "execution_count": 45,
   "metadata": {},
   "outputs": [
    {
     "data": {
      "text/plain": [
       "Shawshank Redemption, The (1994)             39553\n",
       "Pulp Fiction (1994)                          32169\n",
       "Forrest Gump (1994)                          25918\n",
       "Star Wars: Episode IV - A New Hope (1977)    25804\n",
       "Matrix, The (1999)                           25482\n",
       "Schindler's List (1993)                      24853\n",
       "Silence of the Lambs, The (1991)             24801\n",
       "Godfather, The (1972)                        24418\n",
       "Usual Suspects, The (1995)                   21585\n",
       "Fight Club (1999)                            21486\n",
       "Name: title, dtype: int64"
      ]
     },
     "execution_count": 45,
     "metadata": {},
     "output_type": "execute_result"
    }
   ],
   "source": [
    "movies = pd.read_csv('movies.csv')\n",
    "ratings = pd.read_csv('ratings.csv')\n",
    "result = ratings.merge(movies, on='movieId', how='left')\n",
    "result = result[result['rating'] == 5.0]\n",
    "result['title'].value_counts().head(10)"
   ]
  },
  {
   "cell_type": "markdown",
   "metadata": {},
   "source": [
    "## Задание 2\n",
    "По данным файла power.csv посчитайте суммарное потребление стран Прибалтики (Латвия, Литва и Эстония) категорий 4, 12 и 21 за период с 2005 по 2010 года. Не учитывайте в расчетах отрицательные значения quantity."
   ]
  },
  {
   "cell_type": "code",
   "execution_count": 54,
   "metadata": {},
   "outputs": [
    {
     "data": {
      "text/plain": [
       "54844.0"
      ]
     },
     "execution_count": 54,
     "metadata": {},
     "output_type": "execute_result"
    }
   ],
   "source": [
    "data = pd.read_csv('power.csv')\n",
    "pribaltic = data[((data['country'] == 'Lithuania')|(data['country'] == 'Latvia')|(data['country'] == 'Estonia'))&((data['category'] == 4) | (data['category'] == 12)| (data['category'] == 21))]\n",
    "pribaltic = pribaltic[(pribaltic['year']> 2004) & (pribaltic['year'] < 2011) & pribaltic['quantity'] > 0]\n",
    "pribaltic.groupby('country')['quantity'].sum()[1]"
   ]
  },
  {
   "cell_type": "markdown",
   "metadata": {},
   "source": [
    "## Задание 3\n",
    "Выберите страницу любого сайта с табличными данными. Импортируйте таблицы в pandas dataframe.\n",
    "Примеры страниц (необязательно брать именно эти):\n",
    "https://fortrader.org/quotes\n",
    "https://www.finanz.ru/valyuty/v-realnom-vremeni"
   ]
  },
  {
   "cell_type": "code",
   "execution_count": 67,
   "metadata": {},
   "outputs": [
    {
     "data": {
      "text/html": [
       "<div>\n",
       "<style scoped>\n",
       "    .dataframe tbody tr th:only-of-type {\n",
       "        vertical-align: middle;\n",
       "    }\n",
       "\n",
       "    .dataframe tbody tr th {\n",
       "        vertical-align: top;\n",
       "    }\n",
       "\n",
       "    .dataframe thead th {\n",
       "        text-align: right;\n",
       "    }\n",
       "</style>\n",
       "<table border=\"1\" class=\"dataframe\">\n",
       "  <thead>\n",
       "    <tr style=\"text-align: right;\">\n",
       "      <th></th>\n",
       "      <th>0</th>\n",
       "      <th>1</th>\n",
       "      <th>2</th>\n",
       "      <th>3</th>\n",
       "      <th>4</th>\n",
       "      <th>5</th>\n",
       "      <th>6</th>\n",
       "      <th>7</th>\n",
       "      <th>8</th>\n",
       "      <th>9</th>\n",
       "      <th>10</th>\n",
       "      <th>11</th>\n",
       "    </tr>\n",
       "  </thead>\n",
       "  <tbody>\n",
       "    <tr>\n",
       "      <th>0</th>\n",
       "      <td>ММВБ</td>\n",
       "      <td>2 741</td>\n",
       "      <td>-0,5%</td>\n",
       "      <td>Nasdaq</td>\n",
       "      <td>9 412</td>\n",
       "      <td>0,8%</td>\n",
       "      <td>Биткойн</td>\n",
       "      <td>9 192</td>\n",
       "      <td>0,0%</td>\n",
       "      <td>USD/RUB</td>\n",
       "      <td>709590</td>\n",
       "      <td>0,1%</td>\n",
       "    </tr>\n",
       "    <tr>\n",
       "      <th>1</th>\n",
       "      <td>РТС</td>\n",
       "      <td>1 212</td>\n",
       "      <td>-1,0%</td>\n",
       "      <td>S&amp;P500</td>\n",
       "      <td>3 036</td>\n",
       "      <td>1,5%</td>\n",
       "      <td>Нефть</td>\n",
       "      <td>340</td>\n",
       "      <td>-0,9%</td>\n",
       "      <td>EUR/RUB</td>\n",
       "      <td>780825</td>\n",
       "      <td>0,0%</td>\n",
       "    </tr>\n",
       "    <tr>\n",
       "      <th>2</th>\n",
       "      <td>Dow</td>\n",
       "      <td>25 548</td>\n",
       "      <td>2,2%</td>\n",
       "      <td>FTSE100</td>\n",
       "      <td>6 144</td>\n",
       "      <td>1,3%</td>\n",
       "      <td>Золото</td>\n",
       "      <td>1 713</td>\n",
       "      <td>0,2%</td>\n",
       "      <td>EUR/USD</td>\n",
       "      <td>11015</td>\n",
       "      <td>0,1%</td>\n",
       "    </tr>\n",
       "  </tbody>\n",
       "</table>\n",
       "</div>"
      ],
      "text/plain": [
       "     0       1      2        3      4     5        6      7      8        9   \\\n",
       "0  ММВБ   2 741  -0,5%   Nasdaq  9 412  0,8%  Биткойн  9 192   0,0%  USD/RUB   \n",
       "1   РТС   1 212  -1,0%   S&P500  3 036  1,5%    Нефть    340  -0,9%  EUR/RUB   \n",
       "2   Dow  25 548   2,2%  FTSE100  6 144  1,3%   Золото  1 713   0,2%  EUR/USD   \n",
       "\n",
       "       10    11  \n",
       "0  709590  0,1%  \n",
       "1  780825  0,0%  \n",
       "2   11015  0,1%  "
      ]
     },
     "execution_count": 67,
     "metadata": {},
     "output_type": "execute_result"
    }
   ],
   "source": [
    "pd.read_html('https://www.finanz.ru/valyuty/v-realnom-vremeni', encoding='utf-8')[0]\n"
   ]
  },
  {
   "cell_type": "code",
   "execution_count": null,
   "metadata": {},
   "outputs": [],
   "source": []
  }
 ],
 "metadata": {
  "kernelspec": {
   "display_name": "Python 3",
   "language": "python",
   "name": "python3"
  },
  "language_info": {
   "codemirror_mode": {
    "name": "ipython",
    "version": 3
   },
   "file_extension": ".py",
   "mimetype": "text/x-python",
   "name": "python",
   "nbconvert_exporter": "python",
   "pygments_lexer": "ipython3",
   "version": "3.7.6"
  }
 },
 "nbformat": 4,
 "nbformat_minor": 4
}

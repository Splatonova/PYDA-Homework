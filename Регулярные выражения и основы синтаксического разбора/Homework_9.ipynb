{
 "cells": [
  {
   "cell_type": "code",
   "execution_count": 1,
   "metadata": {},
   "outputs": [],
   "source": [
    "import re"
   ]
  },
  {
   "cell_type": "code",
   "execution_count": 14,
   "metadata": {},
   "outputs": [],
   "source": [
    "def transport_number():\n",
    "    user_input=input('Введите номер транспортного средства:')\n",
    "    transport_pattern = r'\\w{1}\\d{3}\\w{2}\\d{2}'\n",
    "    k = re.findall(transport_pattern, user_input)\n",
    "    if k:\n",
    "        number = re.findall(r'\\w{1}\\d{3}\\w{2}', user_input)\n",
    "        region = re.findall(r'(?<=\\w{1}\\d{3}\\w{2})\\d{2}', user_input)\n",
    "        return 'номер', number, 'регион', region\n",
    "    else: \n",
    "        return 'Введенный номер не является номером транспортного средства'"
   ]
  },
  {
   "cell_type": "code",
   "execution_count": 15,
   "metadata": {},
   "outputs": [
    {
     "name": "stdout",
     "output_type": "stream",
     "text": [
      "Введите номер транспортного средства:с065мк78\n"
     ]
    },
    {
     "data": {
      "text/plain": [
       "('номер', ['с065мк'], 'регион', ['78'])"
      ]
     },
     "execution_count": 15,
     "metadata": {},
     "output_type": "execute_result"
    }
   ],
   "source": [
    "transport_number()"
   ]
  },
  {
   "cell_type": "code",
   "execution_count": 16,
   "metadata": {},
   "outputs": [],
   "source": [
    "def check_email():\n",
    "    email = input('Введите e-mail:')\n",
    "    r = r'^([a-z0-9_-]{4,})@([a-z0-9_-]{2,}).[a-z]{2,4}'\n",
    "    m = re.findall(r, email)\n",
    "    if not m:\n",
    "        return 'неверный формат e-mail'\n",
    "    else:\n",
    "        return email\n",
    "        \n",
    "    "
   ]
  },
  {
   "cell_type": "code",
   "execution_count": 17,
   "metadata": {},
   "outputs": [
    {
     "name": "stdout",
     "output_type": "stream",
     "text": [
      "Введите e-mail:travel_7899@gmail.com\n"
     ]
    },
    {
     "data": {
      "text/plain": [
       "'travel_7899@gmail.com'"
      ]
     },
     "execution_count": 17,
     "metadata": {},
     "output_type": "execute_result"
    }
   ],
   "source": [
    "check_email()"
   ]
  },
  {
   "cell_type": "code",
   "execution_count": 76,
   "metadata": {},
   "outputs": [],
   "source": [
    "def delete_repeated_words():\n",
    "    text = 'напишите напишите функцию функцию, которая будет удалять все все все все последовательные повторы'\n",
    "    return re.sub(r'\\b([А-я]+)(\\s\\1)+\\b', r'\\1', text)"
   ]
  },
  {
   "cell_type": "code",
   "execution_count": 77,
   "metadata": {},
   "outputs": [
    {
     "data": {
      "text/plain": [
       "'напишите функцию, которая будет удалять все последовательные повторы'"
      ]
     },
     "execution_count": 77,
     "metadata": {},
     "output_type": "execute_result"
    }
   ],
   "source": [
    "delete_repeated_words()"
   ]
  },
  {
   "cell_type": "code",
   "execution_count": 34,
   "metadata": {},
   "outputs": [],
   "source": [
    "def phone_number():\n",
    "    user_input = input()\n",
    "    return re.sub(r'^((8|\\+7|7)[\\s]?)?\\(?((\\d{3})[\\-|\\s]?)\\)?-?((\\d{3})?)[\\s|-]?((\\d{2})[\\s]?)-?(\\d{2})$', r'+7(\\4)-\\5-\\8-\\9', user_input)"
   ]
  },
  {
   "cell_type": "code",
   "execution_count": 36,
   "metadata": {},
   "outputs": [
    {
     "name": "stdout",
     "output_type": "stream",
     "text": [
      "+7 965 654-98-44\n"
     ]
    },
    {
     "data": {
      "text/plain": [
       "'+7(965)-654-98-44'"
      ]
     },
     "execution_count": 36,
     "metadata": {},
     "output_type": "execute_result"
    }
   ],
   "source": [
    "phone_number()"
   ]
  },
  {
   "cell_type": "code",
   "execution_count": 37,
   "metadata": {},
   "outputs": [
    {
     "name": "stdout",
     "output_type": "stream",
     "text": [
      "9656549844\n"
     ]
    },
    {
     "data": {
      "text/plain": [
       "'+7(965)-654-98-44'"
      ]
     },
     "execution_count": 37,
     "metadata": {},
     "output_type": "execute_result"
    }
   ],
   "source": [
    "phone_number()"
   ]
  },
  {
   "cell_type": "code",
   "execution_count": 38,
   "metadata": {},
   "outputs": [
    {
     "name": "stdout",
     "output_type": "stream",
     "text": [
      "8(965)654-98-44\n"
     ]
    },
    {
     "data": {
      "text/plain": [
       "'+7(965)-654-98-44'"
      ]
     },
     "execution_count": 38,
     "metadata": {},
     "output_type": "execute_result"
    }
   ],
   "source": [
    "phone_number()"
   ]
  },
  {
   "cell_type": "code",
   "execution_count": 39,
   "metadata": {},
   "outputs": [
    {
     "name": "stdout",
     "output_type": "stream",
     "text": [
      "7(965)654 98 44\n"
     ]
    },
    {
     "data": {
      "text/plain": [
       "'+7(965)-654-98-44'"
      ]
     },
     "execution_count": 39,
     "metadata": {},
     "output_type": "execute_result"
    }
   ],
   "source": [
    "phone_number()"
   ]
  },
  {
   "cell_type": "code",
   "execution_count": 40,
   "metadata": {},
   "outputs": [
    {
     "name": "stdout",
     "output_type": "stream",
     "text": [
      "+7 965 654 98 44\n"
     ]
    },
    {
     "data": {
      "text/plain": [
       "'+7(965)-654-98-44'"
      ]
     },
     "execution_count": 40,
     "metadata": {},
     "output_type": "execute_result"
    }
   ],
   "source": [
    "phone_number()"
   ]
  },
  {
   "cell_type": "code",
   "execution_count": null,
   "metadata": {},
   "outputs": [],
   "source": [
    "\n"
   ]
  },
  {
   "cell_type": "code",
   "execution_count": null,
   "metadata": {},
   "outputs": [],
   "source": []
  }
 ],
 "metadata": {
  "kernelspec": {
   "display_name": "Python 3",
   "language": "python",
   "name": "python3"
  },
  "language_info": {
   "codemirror_mode": {
    "name": "ipython",
    "version": 3
   },
   "file_extension": ".py",
   "mimetype": "text/x-python",
   "name": "python",
   "nbconvert_exporter": "python",
   "pygments_lexer": "ipython3",
   "version": "3.7.6"
  }
 },
 "nbformat": 4,
 "nbformat_minor": 4
}

{
 "cells": [
  {
   "cell_type": "markdown",
   "metadata": {},
   "source": [
    "## Задание 1\n",
    "Напишите функцию date_range, которая возвращает список дней между датами start_date и end_date. Даты должны вводиться в формате YYYY-MM-DD."
   ]
  },
  {
   "cell_type": "code",
   "execution_count": 49,
   "metadata": {},
   "outputs": [
    {
     "name": "stdout",
     "output_type": "stream",
     "text": [
      "['2020-01-01', '2020-01-02', '2020-01-03', '2020-01-04', '2020-01-05']\n"
     ]
    }
   ],
   "source": [
    "from datetime import timedelta\n",
    "from datetime import datetime\n",
    "\n",
    "start_date = '2020-01-01'\n",
    "end_date = '2020-01-05'\n",
    "result = []\n",
    "\n",
    "def date_range(start_date, end_date):\n",
    "    start_dt =  datetime.strptime(start_date, '%Y-%m-%d')\n",
    "    end_dt = datetime.strptime(end_date, '%Y-%m-%d')\n",
    "    while start_dt <= end_dt:\n",
    "        result.append(start_dt.strftime('%Y-%m-%d'))\n",
    "        start_dt += timedelta(days=1)\n",
    "    return result\n",
    "    \n",
    "print(date_range(start_date, end_date))"
   ]
  },
  {
   "cell_type": "markdown",
   "metadata": {},
   "source": [
    "## Задание 2\n",
    "Дополните функцию из первого задания проверкой на корректность дат. В случае неверного формата или если start_date > end_date должен возвращаться пустой список."
   ]
  },
  {
   "cell_type": "code",
   "execution_count": 75,
   "metadata": {},
   "outputs": [
    {
     "name": "stdout",
     "output_type": "stream",
     "text": [
      "[]\n"
     ]
    }
   ],
   "source": [
    "from datetime import timedelta\n",
    "from datetime import datetime\n",
    "\n",
    "start_date = '2020-01-01'\n",
    "end_date = '2020-21-05'\n",
    "result = []\n",
    "\n",
    "def date_range(start_date, end_date):\n",
    "    try:\n",
    "        start_dt =  datetime.strptime(start_date, '%Y-%m-%d')\n",
    "        end_dt = datetime.strptime(end_date, '%Y-%m-%d')\n",
    "        while start_dt <= end_dt:\n",
    "            result.append(start_dt.strftime('%Y-%m-%d'))\n",
    "            start_dt += timedelta(days=1)\n",
    "        return result\n",
    "        if start_dt > end_dt:\n",
    "            return []\n",
    "    except ValueError:\n",
    "        return []\n",
    "\n",
    "print(date_range(start_date, end_date))\n"
   ]
  },
  {
   "cell_type": "markdown",
   "metadata": {},
   "source": [
    "## Задание 3\n",
    "Дан поток дат в формате YYYY-MM-DD, в которых встречаются некорректные значения:\n",
    "stream = [‘2018-04-02’, ‘2018-02-29’, ‘2018-19-02’]\n",
    "\n",
    "Напишите функцию, которая проверяет эти даты на корректность. Т. е. для каждой даты возвращает True (дата корректна) или False (некорректная дата)."
   ]
  },
  {
   "cell_type": "code",
   "execution_count": 73,
   "metadata": {},
   "outputs": [
    {
     "name": "stdout",
     "output_type": "stream",
     "text": [
      "[True, False, False]\n"
     ]
    }
   ],
   "source": [
    "stream = ['2018-04-02', '2018-02-29', '2018-19-02']\n",
    "\n",
    "result_True_False = []\n",
    "\n",
    "for element in stream:\n",
    "    try:\n",
    "        if dt == datetime.strptime(element, '%Y-%m-%d'):\n",
    "            result_True_False.append(True)\n",
    "            \n",
    "    except ValueError:\n",
    "        result_True_False.append(False)\n",
    "\n",
    "print(result_True_False)       \n",
    "    \n",
    "   \n"
   ]
  },
  {
   "cell_type": "code",
   "execution_count": null,
   "metadata": {},
   "outputs": [],
   "source": []
  }
 ],
 "metadata": {
  "kernelspec": {
   "display_name": "Python 3",
   "language": "python",
   "name": "python3"
  },
  "language_info": {
   "codemirror_mode": {
    "name": "ipython",
    "version": 3
   },
   "file_extension": ".py",
   "mimetype": "text/x-python",
   "name": "python",
   "nbconvert_exporter": "python",
   "pygments_lexer": "ipython3",
   "version": "3.7.6"
  }
 },
 "nbformat": 4,
 "nbformat_minor": 4
}

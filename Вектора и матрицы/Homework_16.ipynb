{
 "cells": [
  {
   "cell_type": "markdown",
   "metadata": {},
   "source": [
    "# Домашняя работа №1"
   ]
  },
  {
   "cell_type": "code",
   "execution_count": 1,
   "metadata": {},
   "outputs": [],
   "source": [
    "import numpy as np\n",
    "import pylab as pl\n",
    "import pandas as pd\n",
    "import warnings\n",
    "import math\n",
    "\n",
    "from matplotlib import pyplot as plt\n",
    "from scipy import linalg\n",
    "\n",
    "\n",
    "warnings.filterwarnings(\"ignore\")"
   ]
  },
  {
   "cell_type": "markdown",
   "metadata": {},
   "source": [
    "## Задание 1"
   ]
  },
  {
   "cell_type": "markdown",
   "metadata": {},
   "source": [
    "Изобразите с помощью matplotlib. Изобразите точку x + 2y + 3z. Найдите угол между векторами x, y и x, z. "
   ]
  },
  {
   "cell_type": "code",
   "execution_count": 2,
   "metadata": {},
   "outputs": [],
   "source": [
    "x = np.array([1,1])\n",
    "y = np.array([2, 0])\n",
    "z = np.array([0,2])"
   ]
  },
  {
   "cell_type": "code",
   "execution_count": 3,
   "metadata": {},
   "outputs": [
    {
     "data": {
      "text/plain": [
       "array([5, 7])"
      ]
     },
     "execution_count": 3,
     "metadata": {},
     "output_type": "execute_result"
    }
   ],
   "source": [
    "a = x + 2 * y + 3 * z\n",
    "a"
   ]
  },
  {
   "cell_type": "code",
   "execution_count": 23,
   "metadata": {},
   "outputs": [
    {
     "data": {
      "text/plain": [
       "<matplotlib.collections.PathCollection at 0x1728acb4608>"
      ]
     },
     "execution_count": 23,
     "metadata": {},
     "output_type": "execute_result"
    },
    {
     "data": {
      "image/png": "[encoded data removed]",
      "text/plain": [
       "<Figure size 432x288 with 1 Axes>"
      ]
     },
     "metadata": {
      "needs_background": "light"
     },
     "output_type": "display_data"
    }
   ],
   "source": [
    "plt.scatter([x[0],y[0],z[0]],[x[1],y[1],z[1]])\n",
    "plt.scatter(a[0], a[1])\n"
   ]
  },
  {
   "cell_type": "code",
   "execution_count": 24,
   "metadata": {},
   "outputs": [],
   "source": [
    "def calculate_angle(vector_1, vector_2):\n",
    "    rad = np.arccos(np.dot(vector_1, vector_2)/((np.linalg.norm(vector_1)*np.linalg.norm(vector_2))))\n",
    "    deg = rad*(180/np.pi)\n",
    "    print('Угол между векторами равен ', round(deg,2), 'градусов.')"
   ]
  },
  {
   "cell_type": "code",
   "execution_count": 25,
   "metadata": {},
   "outputs": [
    {
     "name": "stdout",
     "output_type": "stream",
     "text": [
      "Угол между векторами равен  45.0 градусов.\n"
     ]
    }
   ],
   "source": [
    "calculate_angle(x,y)"
   ]
  },
  {
   "cell_type": "code",
   "execution_count": 26,
   "metadata": {},
   "outputs": [
    {
     "name": "stdout",
     "output_type": "stream",
     "text": [
      "Угол между векторами равен  45.0 градусов.\n"
     ]
    }
   ],
   "source": [
    "calculate_angle(x,z)"
   ]
  },
  {
   "cell_type": "markdown",
   "metadata": {},
   "source": [
    "## Задание 2"
   ]
  },
  {
   "cell_type": "markdown",
   "metadata": {},
   "source": [
    "Загрузите модель человека. Найдите расстояние от правой кисти до позвоночника"
   ]
  },
  {
   "cell_type": "code",
   "execution_count": 28,
   "metadata": {},
   "outputs": [
    {
     "data": {
      "text/html": [
       "<div>\n",
       "<style scoped>\n",
       "    .dataframe tbody tr th:only-of-type {\n",
       "        vertical-align: middle;\n",
       "    }\n",
       "\n",
       "    .dataframe tbody tr th {\n",
       "        vertical-align: top;\n",
       "    }\n",
       "\n",
       "    .dataframe thead th {\n",
       "        text-align: right;\n",
       "    }\n",
       "</style>\n",
       "<table border=\"1\" class=\"dataframe\">\n",
       "  <thead>\n",
       "    <tr style=\"text-align: right;\">\n",
       "      <th></th>\n",
       "      <th>type</th>\n",
       "      <th>x</th>\n",
       "      <th>y</th>\n",
       "      <th>z</th>\n",
       "    </tr>\n",
       "  </thead>\n",
       "  <tbody>\n",
       "    <tr>\n",
       "      <th>21</th>\n",
       "      <td>v</td>\n",
       "      <td>-0.392414</td>\n",
       "      <td>0.045288</td>\n",
       "      <td>0.025403</td>\n",
       "    </tr>\n",
       "    <tr>\n",
       "      <th>20</th>\n",
       "      <td>v</td>\n",
       "      <td>-0.283883</td>\n",
       "      <td>0.219551</td>\n",
       "      <td>-0.024912</td>\n",
       "    </tr>\n",
       "    <tr>\n",
       "      <th>19</th>\n",
       "      <td>v</td>\n",
       "      <td>-0.163721</td>\n",
       "      <td>0.476657</td>\n",
       "      <td>-0.030335</td>\n",
       "    </tr>\n",
       "    <tr>\n",
       "      <th>18</th>\n",
       "      <td>v</td>\n",
       "      <td>-0.163721</td>\n",
       "      <td>0.476657</td>\n",
       "      <td>-0.030335</td>\n",
       "    </tr>\n",
       "    <tr>\n",
       "      <th>17</th>\n",
       "      <td>v</td>\n",
       "      <td>-0.163721</td>\n",
       "      <td>0.476657</td>\n",
       "      <td>-0.030335</td>\n",
       "    </tr>\n",
       "  </tbody>\n",
       "</table>\n",
       "</div>"
      ],
      "text/plain": [
       "   type         x         y         z\n",
       "21    v -0.392414  0.045288  0.025403\n",
       "20    v -0.283883  0.219551 -0.024912\n",
       "19    v -0.163721  0.476657 -0.030335\n",
       "18    v -0.163721  0.476657 -0.030335\n",
       "17    v -0.163721  0.476657 -0.030335"
      ]
     },
     "execution_count": 28,
     "metadata": {},
     "output_type": "execute_result"
    }
   ],
   "source": [
    "ns = ['type', 'x', 'y', 'z']\n",
    "# read points for joints\n",
    "dfJointsVertexes = pd.read_csv('joints.txt', sep=' ', names = ns)\n",
    "axis_sort = 'x' \n",
    "df = dfJointsVertexes.sort_values(by=[axis_sort])\n",
    "df.head()"
   ]
  },
  {
   "cell_type": "code",
   "execution_count": 29,
   "metadata": {},
   "outputs": [
    {
     "data": {
      "text/plain": [
       "<matplotlib.collections.PathCollection at 0x1728c3afc48>"
      ]
     },
     "execution_count": 29,
     "metadata": {},
     "output_type": "execute_result"
    },
    {
     "data": {
      "image/png": "[encoded data removed]",
      "text/plain": [
       "<Figure size 432x288 with 1 Axes>"
      ]
     },
     "metadata": {
      "needs_background": "light"
     },
     "output_type": "display_data"
    }
   ],
   "source": [
    "plt.scatter(df.x, df.y)"
   ]
  },
  {
   "cell_type": "code",
   "execution_count": 30,
   "metadata": {},
   "outputs": [
    {
     "data": {
      "text/plain": [
       "0.39147649704306015"
      ]
     },
     "execution_count": 30,
     "metadata": {},
     "output_type": "execute_result"
    }
   ],
   "source": [
    "vect_spine = np.array([df.x[0]-df.x[11], df.y[0]-df.y[11]])\n",
    "vect_brush = np.array([df.x[16],df.y[16]])\n",
    "cv = np.array(df.x[0], df.y[0]) + (np.dot(vect_brush,vect_spine))/np.dot(vect_spine,np.transpose(vect_spine))*vect_spine\n",
    "linalg.norm(cv - vect_brush)"
   ]
  },
  {
   "cell_type": "code",
   "execution_count": 31,
   "metadata": {},
   "outputs": [
    {
     "data": {
      "text/plain": [
       "<matplotlib.legend.Legend at 0x1728c436e88>"
      ]
     },
     "execution_count": 31,
     "metadata": {},
     "output_type": "execute_result"
    },
    {
     "data": {
      "image/png": "[encoded data removed]",
      "text/plain": [
       "<Figure size 432x288 with 1 Axes>"
      ]
     },
     "metadata": {
      "needs_background": "light"
     },
     "output_type": "display_data"
    }
   ],
   "source": [
    "plt.scatter(df.x, df.y)\n",
    "\n",
    "plt.scatter(df.x[9], df.y[9])\n",
    "plt.scatter(df.x[11], df.y[11])\n",
    "plt.scatter(df.x[16], df.y[16])\n",
    "plt.legend(['все параметрические точки', 'точка позвоночника 1','точка позвоночника 2','точка кисти'])"
   ]
  },
  {
   "cell_type": "code",
   "execution_count": 37,
   "metadata": {},
   "outputs": [
    {
     "name": "stdout",
     "output_type": "stream",
     "text": [
      "Расстояние от точки правой кисти до точки позвоночника:  0.39\n"
     ]
    }
   ],
   "source": [
    "v = np.array([df.x[9] - df.x[11], df.y[9] - df.y[11]])\n",
    "w = np.array([df.x[16],df.y[16]])\n",
    "cv = np.array(df.x[9], df.y[9]) + (np.dot(w,v))/np.dot(v,np.transpose(v))*v\n",
    "dist = linalg.norm(cv - w)\n",
    "print('Расстояние от точки правой кисти до точки позвоночника: ', round(dist,2))"
   ]
  },
  {
   "cell_type": "markdown",
   "metadata": {},
   "source": [
    "# Задание 3"
   ]
  },
  {
   "cell_type": "markdown",
   "metadata": {},
   "source": [
    "Найдите собственные значения и собственные вектора матриц (необходимо решение на numpy). Для матрицы 3x3 можно посмотреть на корни характеристического многочлена, посчитанные в numpy."
   ]
  },
  {
   "cell_type": "code",
   "execution_count": 40,
   "metadata": {},
   "outputs": [],
   "source": [
    "from numpy import linalg as LA\n",
    "m1 = np.array([[2, 2],\n",
    "               [1, 3]])\n",
    "\n",
    "m2 = np.array([[4, 1, -1],\n",
    "               [1, 4, -1],\n",
    "               [-1, -1, 4]])"
   ]
  },
  {
   "cell_type": "code",
   "execution_count": 41,
   "metadata": {},
   "outputs": [],
   "source": [
    "e_vals, e_vecs = LA.eig(m1)"
   ]
  },
  {
   "cell_type": "code",
   "execution_count": 42,
   "metadata": {},
   "outputs": [
    {
     "name": "stdout",
     "output_type": "stream",
     "text": [
      "Исходная матрица: \n",
      " [[2 2]\n",
      " [1 3]]\n",
      "Собственные вектора: \n",
      " [[-0.89442719 -0.70710678]\n",
      " [ 0.4472136  -0.70710678]]\n",
      "Собственные значения:  [1. 4.]\n"
     ]
    }
   ],
   "source": [
    "print('Исходная матрица: \\n', m1)\n",
    "\n",
    "print('Собственные вектора: \\n', e_vecs)\n",
    "print('Собственные значения: ', e_vals)"
   ]
  },
  {
   "cell_type": "code",
   "execution_count": 44,
   "metadata": {},
   "outputs": [],
   "source": [
    "e_vals, e_vecs = LA.eig(m2)"
   ]
  },
  {
   "cell_type": "code",
   "execution_count": 45,
   "metadata": {},
   "outputs": [
    {
     "name": "stdout",
     "output_type": "stream",
     "text": [
      "Исходная матрица: \n",
      " [[ 4  1 -1]\n",
      " [ 1  4 -1]\n",
      " [-1 -1  4]]\n",
      "Собственные вектора: \n",
      " [[-0.81649658  0.57735027 -0.27658128]\n",
      " [ 0.40824829  0.57735027  0.8035929 ]\n",
      " [-0.40824829 -0.57735027  0.52701162]]\n",
      "Собственные значения:  [3. 6. 3.]\n"
     ]
    }
   ],
   "source": [
    "print('Исходная матрица: \\n', m2)\n",
    "\n",
    "print('Собственные вектора: \\n', e_vecs)\n",
    "print('Собственные значения: ', e_vals)"
   ]
  },
  {
   "cell_type": "code",
   "execution_count": null,
   "metadata": {},
   "outputs": [],
   "source": []
  }
 ],
 "metadata": {
  "kernelspec": {
   "display_name": "Python 3",
   "language": "python",
   "name": "python3"
  },
  "language_info": {
   "codemirror_mode": {
    "name": "ipython",
    "version": 3
   },
   "file_extension": ".py",
   "mimetype": "text/x-python",
   "name": "python",
   "nbconvert_exporter": "python",
   "pygments_lexer": "ipython3",
   "version": "3.7.6"
  }
 },
 "nbformat": 4,
 "nbformat_minor": 2
}
